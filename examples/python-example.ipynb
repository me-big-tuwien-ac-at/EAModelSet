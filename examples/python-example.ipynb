{
 "cells": [
  {
   "cell_type": "code",
   "execution_count": null,
   "metadata": {},
   "outputs": [],
   "source": [
    "%pip install eamodelset"
   ]
  },
  {
   "cell_type": "code",
   "execution_count": 3,
   "metadata": {},
   "outputs": [
    {
     "name": "stdout",
     "output_type": "stream",
     "text": [
      "{'title': 'EA ModelSet', 'version': '0.0.1', 'last_updated': '30-06-2023', 'total_models': 1009}\n"
     ]
    }
   ],
   "source": [
    "from eamodelset.dataset import EAModelSet\n",
    "\n",
    "dataset = EAModelSet()\n",
    "print(dataset.info)"
   ]
  },
  {
   "cell_type": "code",
   "execution_count": 8,
   "metadata": {},
   "outputs": [
    {
     "name": "stdout",
     "output_type": "stream",
     "text": [
      "                                                                 name  \\\n",
      "id                                                                      \n",
      "id-48fb3807bfa249a9bae607b6a92cc390                               LAE   \n",
      "id-45f87864-a222-4f0d-8c62-59e6381ad765  enterprise patterns overview   \n",
      "_7RWQ8CqVEey-A40W5C_9dw                                    buhService   \n",
      "id-372288bf                               4b Single Table Inheritance   \n",
      "id-0b5805b6                                           Template Method   \n",
      "...                                                               ...   \n",
      "id-172cfc0e                                    9 Client Session State   \n",
      "id-7ae983b97def44a599b037454232f869                       (new model)   \n",
      "_y3wzIJ2PEeqEM7mFKilpXw                                    LabBunnies   \n",
      "490512c1-d52a-4558-8ecc-326bcf3cea69                            OPBOT   \n",
      "b05abff0-6b94-45ad-bbb8-e86d49dd9c6a                  Create_resource   \n",
      "\n",
      "                                             source language  \\\n",
      "id                                                             \n",
      "id-48fb3807bfa249a9bae607b6a92cc390          GitHub       fr   \n",
      "id-45f87864-a222-4f0d-8c62-59e6381ad765      GitHub       en   \n",
      "_7RWQ8CqVEey-A40W5C_9dw                  GenMyModel       ru   \n",
      "id-372288bf                                  GitHub       en   \n",
      "id-0b5805b6                                  GitHub       en   \n",
      "...                                             ...      ...   \n",
      "id-172cfc0e                                  GitHub       en   \n",
      "id-7ae983b97def44a599b037454232f869          GitHub       ru   \n",
      "_y3wzIJ2PEeqEM7mFKilpXw                  GenMyModel       ru   \n",
      "490512c1-d52a-4558-8ecc-326bcf3cea69         GitHub       en   \n",
      "b05abff0-6b94-45ad-bbb8-e86d49dd9c6a         GitHub       en   \n",
      "\n",
      "                                                             formats  \\\n",
      "id                                                                     \n",
      "id-48fb3807bfa249a9bae607b6a92cc390      [XML, CSV, JSON, ARCHIMATE]   \n",
      "id-45f87864-a222-4f0d-8c62-59e6381ad765  [XML, CSV, JSON, ARCHIMATE]   \n",
      "_7RWQ8CqVEey-A40W5C_9dw                  [XML, CSV, JSON, ARCHIMATE]   \n",
      "id-372288bf                              [XML, CSV, JSON, ARCHIMATE]   \n",
      "id-0b5805b6                              [XML, CSV, JSON, ARCHIMATE]   \n",
      "...                                                              ...   \n",
      "id-172cfc0e                              [XML, CSV, JSON, ARCHIMATE]   \n",
      "id-7ae983b97def44a599b037454232f869      [XML, CSV, JSON, ARCHIMATE]   \n",
      "_y3wzIJ2PEeqEM7mFKilpXw                  [XML, CSV, JSON, ARCHIMATE]   \n",
      "490512c1-d52a-4558-8ecc-326bcf3cea69     [XML, CSV, JSON, ARCHIMATE]   \n",
      "b05abff0-6b94-45ad-bbb8-e86d49dd9c6a     [XML, CSV, JSON, ARCHIMATE]   \n",
      "\n",
      "                                                tags  duplicateCount  \\\n",
      "id                                                                     \n",
      "id-48fb3807bfa249a9bae607b6a92cc390               []               0   \n",
      "id-45f87864-a222-4f0d-8c62-59e6381ad765           []               0   \n",
      "_7RWQ8CqVEey-A40W5C_9dw                           []               0   \n",
      "id-372288bf                                       []               0   \n",
      "id-0b5805b6                                [WARNING]               0   \n",
      "...                                              ...             ...   \n",
      "id-172cfc0e                                       []               0   \n",
      "id-7ae983b97def44a599b037454232f869               []               0   \n",
      "_y3wzIJ2PEeqEM7mFKilpXw                           []               0   \n",
      "490512c1-d52a-4558-8ecc-326bcf3cea69              []               0   \n",
      "b05abff0-6b94-45ad-bbb8-e86d49dd9c6a     [DUPLICATE]               1   \n",
      "\n",
      "                                         elementCount  relationshipCount  \\\n",
      "id                                                                         \n",
      "id-48fb3807bfa249a9bae607b6a92cc390               142                296   \n",
      "id-45f87864-a222-4f0d-8c62-59e6381ad765            15                 17   \n",
      "_7RWQ8CqVEey-A40W5C_9dw                            55                 41   \n",
      "id-372288bf                                        55                 81   \n",
      "id-0b5805b6                                        78                108   \n",
      "...                                               ...                ...   \n",
      "id-172cfc0e                                        42                 43   \n",
      "id-7ae983b97def44a599b037454232f869                60                100   \n",
      "_y3wzIJ2PEeqEM7mFKilpXw                            34                 41   \n",
      "490512c1-d52a-4558-8ecc-326bcf3cea69              112                222   \n",
      "b05abff0-6b94-45ad-bbb8-e86d49dd9c6a               11                 12   \n",
      "\n",
      "                                         viewCount  \n",
      "id                                                  \n",
      "id-48fb3807bfa249a9bae607b6a92cc390             24  \n",
      "id-45f87864-a222-4f0d-8c62-59e6381ad765          1  \n",
      "_7RWQ8CqVEey-A40W5C_9dw                          3  \n",
      "id-372288bf                                      1  \n",
      "id-0b5805b6                                      3  \n",
      "...                                            ...  \n",
      "id-172cfc0e                                      1  \n",
      "id-7ae983b97def44a599b037454232f869              3  \n",
      "_y3wzIJ2PEeqEM7mFKilpXw                          1  \n",
      "490512c1-d52a-4558-8ecc-326bcf3cea69             9  \n",
      "b05abff0-6b94-45ad-bbb8-e86d49dd9c6a             1  \n",
      "\n",
      "[1009 rows x 9 columns]\n",
      "['name', 'source', 'language', 'formats', 'tags', 'duplicateCount', 'elementCount', 'relationshipCount', 'viewCount']\n"
     ]
    }
   ],
   "source": [
    "# pandas dataframe\n",
    "print(dataset.data)\n",
    "\n",
    "print(dataset.data.columns.tolist())"
   ]
  },
  {
   "cell_type": "code",
   "execution_count": 19,
   "metadata": {},
   "outputs": [
    {
     "name": "stdout",
     "output_type": "stream",
     "text": [
      "Example\n",
      "27\n",
      "Insurant\n",
      "Customer Information\n",
      "Process Claims\n",
      "Register\n",
      "Accept\n",
      "Adjucate\n",
      "Pay\n",
      "Claims Registration\n",
      "Claims Acceptance\n",
      "Claims Payment\n",
      "Customer\n",
      "Insurer\n",
      "ArchiSurance\n",
      "Customer Data\n",
      "Customer Data Management\n",
      "CRM System\n",
      "Payment Processing\n",
      "Financial Application\n",
      "Customer Database Tables\n",
      "Database Management\n",
      "Database Access Java Archive\n",
      "Blade System\n",
      "Database Management System\n",
      "Application Server\n",
      "Application Hosting\n",
      "Financial Application Web Archive\n",
      "Dead Component\n"
     ]
    },
    {
     "data": {
      "text/plain": [
       "[None,\n",
       " None,\n",
       " None,\n",
       " None,\n",
       " None,\n",
       " None,\n",
       " None,\n",
       " None,\n",
       " None,\n",
       " None,\n",
       " None,\n",
       " None,\n",
       " None,\n",
       " None,\n",
       " None,\n",
       " None,\n",
       " None,\n",
       " None,\n",
       " None,\n",
       " None,\n",
       " None,\n",
       " None,\n",
       " None,\n",
       " None,\n",
       " None,\n",
       " None,\n",
       " None]"
      ]
     },
     "execution_count": 19,
     "metadata": {},
     "output_type": "execute_result"
    }
   ],
   "source": [
    "model = dataset.get_model(id=\"id-54c7dff1caa743febe6d27e02ae711df\")\n",
    "print(model['name'])\n",
    "\n",
    "# access elements of a model\n",
    "elements = model['elements']\n",
    "print(len(elements))\n",
    "[print(e['name']) for e in elements]"
   ]
  }
 ],
 "metadata": {
  "kernelspec": {
   "display_name": "Python 3",
   "language": "python",
   "name": "python3"
  },
  "language_info": {
   "codemirror_mode": {
    "name": "ipython",
    "version": 3
   },
   "file_extension": ".py",
   "mimetype": "text/x-python",
   "name": "python",
   "nbconvert_exporter": "python",
   "pygments_lexer": "ipython3",
   "version": "3.9.13"
  },
  "orig_nbformat": 4
 },
 "nbformat": 4,
 "nbformat_minor": 2
}
