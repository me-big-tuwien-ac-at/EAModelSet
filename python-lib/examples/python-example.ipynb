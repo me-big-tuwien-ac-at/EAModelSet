{
 "cells": [
  {
   "attachments": {},
   "cell_type": "markdown",
   "metadata": {},
   "source": [
    "### Installation\n",
    "\n",
    "The EA ModelSet Python library can be conveniently installed through `pip`."
   ]
  },
  {
   "cell_type": "code",
   "execution_count": 1,
   "metadata": {},
   "outputs": [
    {
     "name": "stdout",
     "output_type": "stream",
     "text": [
      "Requirement already satisfied: eamodelset in /Users/philipp/opt/anaconda3/lib/python3.9/site-packages (0.0.1)\n",
      "Requirement already satisfied: pandas in /Users/philipp/opt/anaconda3/lib/python3.9/site-packages (from eamodelset) (1.4.4)\n",
      "Requirement already satisfied: numpy in /Users/philipp/opt/anaconda3/lib/python3.9/site-packages (from eamodelset) (1.21.5)\n",
      "Requirement already satisfied: python-dateutil>=2.8.1 in /Users/philipp/opt/anaconda3/lib/python3.9/site-packages (from pandas->eamodelset) (2.8.2)\n",
      "Requirement already satisfied: pytz>=2020.1 in /Users/philipp/opt/anaconda3/lib/python3.9/site-packages (from pandas->eamodelset) (2022.1)\n",
      "Requirement already satisfied: six>=1.5 in /Users/philipp/opt/anaconda3/lib/python3.9/site-packages (from python-dateutil>=2.8.1->pandas->eamodelset) (1.16.0)\n",
      "Note: you may need to restart the kernel to use updated packages.\n"
     ]
    }
   ],
   "source": [
    "%pip install eamodelset\n"
   ]
  },
  {
   "attachments": {},
   "cell_type": "markdown",
   "metadata": {},
   "source": [
    "### Getting Started\n",
    "\n",
    "Once the library is installed, import `EAModelSet` from `eamodelset.dataset` and instantiate an object, as seen below. Internally, a zip file that contains the dataset is extracted to the directory `~/.ea-modelset`. You can ensure the library is set up correctly by printing `dataset.info`."
   ]
  },
  {
   "cell_type": "code",
   "execution_count": 2,
   "metadata": {},
   "outputs": [
    {
     "name": "stdout",
     "output_type": "stream",
     "text": [
      "Dataset path found: /Users/philipp/.ea-modelset\n",
      "Veryfing extracted dataset...\n",
      "Loading JSON data...\n",
      "Dataset loaded successfully!\n",
      "{'title': 'EA ModelSet', 'version': '0.0.1-test', 'last_updated': '2023-07-11', 'total_models': 865}\n"
     ]
    }
   ],
   "source": [
    "from eamodelset.dataset import EAModelSet\n",
    "\n",
    "dataset = EAModelSet()\n",
    "print(dataset.info)"
   ]
  },
  {
   "attachments": {},
   "cell_type": "markdown",
   "metadata": {},
   "source": [
    "### Basic Usage"
   ]
  },
  {
   "cell_type": "code",
   "execution_count": 3,
   "metadata": {},
   "outputs": [
    {
     "name": "stdout",
     "output_type": "stream",
     "text": [
      "                                       id                            name  \\\n",
      "0     id-48fb3807bfa249a9bae607b6a92cc390                             LAE   \n",
      "1                 _7RWQ8CqVEey-A40W5C_9dw                      buhService   \n",
      "2    3846c562-eab4-4e07-aa95-87703e0e0e69                 Data model test   \n",
      "3                 _ay028PGjEeqygJczXaaxEQ                   payments-arch   \n",
      "4    9ad17608-2f64-4609-8927-12b93ea1ed2b  Altinn arkitekturmålbilde 2025   \n",
      "..                                    ...                             ...   \n",
      "860                              d6d289d4                                   \n",
      "861   id-7ae983b97def44a599b037454232f869                     (new model)   \n",
      "862               _y3wzIJ2PEeqEM7mFKilpXw                      LabBunnies   \n",
      "863  490512c1-d52a-4558-8ecc-326bcf3cea69                           OPBOT   \n",
      "864  b05abff0-6b94-45ad-bbb8-e86d49dd9c6a                 Create_resource   \n",
      "\n",
      "         source                  repository    license language  \\\n",
      "0        GitHub                                              fr   \n",
      "1    GenMyModel                                              ru   \n",
      "2    GenMyModel                                              en   \n",
      "3    GenMyModel                                              en   \n",
      "4        GitHub                  Altinn/ark  Not found       nb   \n",
      "..          ...                         ...        ...      ...   \n",
      "860      GitHub     andy645jh/ProyectoGrado  Not found       es   \n",
      "861      GitHub                                              ru   \n",
      "862  GenMyModel                                              ru   \n",
      "863      GitHub               bulgemi/opbot  Not found       en   \n",
      "864      GitHub  BIBSYSDEV/nva-architecture  Not found       en   \n",
      "\n",
      "                         formats         tags  duplicateCount  elementCount  \\\n",
      "0    [XML, CSV, JSON, ARCHIMATE]           []               0           142   \n",
      "1    [XML, CSV, JSON, ARCHIMATE]           []               0            55   \n",
      "2                    [XML, JSON]           []               0            15   \n",
      "3    [XML, CSV, JSON, ARCHIMATE]           []               0            18   \n",
      "4    [XML, CSV, JSON, ARCHIMATE]           []               0            39   \n",
      "..                           ...          ...             ...           ...   \n",
      "860  [XML, CSV, JSON, ARCHIMATE]  [DUPLICATE]               1            50   \n",
      "861  [XML, CSV, JSON, ARCHIMATE]           []               0            60   \n",
      "862  [XML, CSV, JSON, ARCHIMATE]           []               0            34   \n",
      "863  [XML, CSV, JSON, ARCHIMATE]           []               0           112   \n",
      "864  [XML, CSV, JSON, ARCHIMATE]  [DUPLICATE]               1            11   \n",
      "\n",
      "     relationshipCount  viewCount  \n",
      "0                  296         24  \n",
      "1                   41          3  \n",
      "2                   11          1  \n",
      "3                   20          1  \n",
      "4                   15          5  \n",
      "..                 ...        ...  \n",
      "860                 72          1  \n",
      "861                100          3  \n",
      "862                 41          1  \n",
      "863                222          9  \n",
      "864                 12          1  \n",
      "\n",
      "[865 rows x 12 columns]\n"
     ]
    }
   ],
   "source": [
    "# pandas dataframe\n",
    "df = dataset.data\n",
    "print(df)"
   ]
  },
  {
   "attachments": {},
   "cell_type": "markdown",
   "metadata": {},
   "source": [
    "### Filtering Models"
   ]
  },
  {
   "cell_type": "code",
   "execution_count": 4,
   "metadata": {},
   "outputs": [
    {
     "name": "stdout",
     "output_type": "stream",
     "text": [
      "Models in English: 527\n",
      "Models in English from GitHub containing name 'archi': 3\n",
      "Models in English with > 100 elements and < 10 views: 68\n"
     ]
    }
   ],
   "source": [
    "\n",
    "# basic filtering by single property\n",
    "models_filtered_1 = dataset.filter_models(lang='en')\n",
    "print(f\"Models in English: {len(models_filtered_1)}\")\n",
    "\n",
    "# filter properties can be arbitrarily combined\n",
    "models_filtered_2 = dataset.filter_models(name='archi', lang='en', source='github')\n",
    "print(f\"Models in English from GitHub containing name 'archi': {len(models_filtered_2)}\")\n",
    "\n",
    "# filter by min/max amount of elements/relationships/views\n",
    "models_filtered_3 = dataset.filter_models(lang='en', min_elems=100, max_views=10)\n",
    "print(f\"Models in English with > 100 elements and < 10 views: {len(models_filtered_3)}\")"
   ]
  },
  {
   "attachments": {},
   "cell_type": "markdown",
   "metadata": {},
   "source": [
    "### Get Model"
   ]
  },
  {
   "cell_type": "code",
   "execution_count": 6,
   "metadata": {},
   "outputs": [
    {
     "name": "stdout",
     "output_type": "stream",
     "text": [
      "ID: id-54c7dff1caa743febe6d27e02ae711df, Name: Example\n",
      "Number of Elements: 27\n",
      "                          Example\n",
      "                     ArchiSurance\n",
      "                         Customer\n",
      "             Customer Information\n",
      "                           Accept\n",
      "                         Adjucate\n",
      "                              Pay\n",
      "                   Process Claims\n",
      "                         Register\n",
      "                         Insurant\n",
      "                          Insurer\n",
      "                Claims Acceptance\n",
      "                   Claims Payment\n",
      "              Claims Registration\n",
      "                       CRM System\n",
      "            Financial Application\n",
      "         Customer Data Management\n",
      "               Payment Processing\n",
      "                    Customer Data\n",
      "         Customer Database Tables\n",
      "     Database Access Java Archive\n",
      "Financial Application Web Archive\n",
      "                     Blade System\n",
      "                   Dead Component\n",
      "               Application Server\n",
      "       Database Management System\n",
      "              Application Hosting\n",
      "              Database Management\n"
     ]
    }
   ],
   "source": [
    "# get JSON representation of model\n",
    "example = dataset.get_model(id='id-54c7dff1caa743febe6d27e02ae711df')\n",
    "# access properties\n",
    "print(f\"ID: {example['archimateId']}, Name: {example['name']}\")\n",
    "print(f\"Number of Elements: {len(example['elements'])}\")\n",
    "\n",
    "# get CSV representation of model\n",
    "example = dataset.get_csv_model('id-54c7dff1caa743febe6d27e02ae711df')\n",
    "print(example['elements']['Name'].to_string(index=False))"
   ]
  }
 ],
 "metadata": {
  "kernelspec": {
   "display_name": "Python 3",
   "language": "python",
   "name": "python3"
  },
  "language_info": {
   "codemirror_mode": {
    "name": "ipython",
    "version": 3
   },
   "file_extension": ".py",
   "mimetype": "text/x-python",
   "name": "python",
   "nbconvert_exporter": "python",
   "pygments_lexer": "ipython3",
   "version": "3.9.13"
  },
  "orig_nbformat": 4
 },
 "nbformat": 4,
 "nbformat_minor": 2
}
